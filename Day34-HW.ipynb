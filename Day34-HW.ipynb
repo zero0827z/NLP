{
 "metadata": {
  "language_info": {
   "codemirror_mode": {
    "name": "ipython",
    "version": 3
   },
   "file_extension": ".py",
   "mimetype": "text/x-python",
   "name": "python",
   "nbconvert_exporter": "python",
   "pygments_lexer": "ipython3",
   "version": "3.7.6"
  },
  "orig_nbformat": 2,
  "kernelspec": {
   "name": "python376jvsc74a57bd07b4b4feff2f24a0f0a34464dbe537a36fda679851528fb8735cb41fa49dffb2d",
   "display_name": "Python 3.7.6 64-bit ('base': conda)"
  }
 },
 "nbformat": 4,
 "nbformat_minor": 2,
 "cells": [
  {
   "source": [
    "題目：將 Kaggle Dataset SMS 文件以機器學習方式分辨是否為垃圾郵件  \n",
    "說明：輸入文件 spam.csv 是一個至少有兩欄 v1 和 v2 的 csv 檔，v1 註明該簡訊是 ham 還是spam，v2 是 sms 內容本身，我們在讀入後先去掉不必要的欄位內容，將欄位名稱改為 labels 和 data，再將 labels 內容改成 0/1，0 代表 ham1 代表 spam。接著將內容切割成訓練集和測試集，再用 tokenizer 做前處理，最後形成可以分析的格式。建模分析之後我們印出訓練和測試準確度，然後以 word cloud 畫出 spam 和 ham 常用的字，再分別印出判斷錯誤的 SMS 供未來改進。  \n",
    "延伸：可用不同的 tokenizer，不同的 ML 分類器做改進準確率的比較。  \n",
    "範例程式檔名：spam_sms_ 垃圾簡訊偵測器.py，以 Naïve Bayes (MultinomialNB) 方式完成  \n",
    "模組：sklearn, pandas, numpy, wordcloud  \n",
    "輸入檔：spam.csv  \n",
    "成績：辨識百分率"
   ],
   "cell_type": "markdown",
   "metadata": {}
  },
  {
   "cell_type": "code",
   "execution_count": 3,
   "metadata": {},
   "outputs": [],
   "source": [
    "# Package import\n",
    "import numpy as np\n",
    "import pandas as pd\n",
    "import wordcloud\n",
    "from sklearn.linear_model import LogisticRegression \n",
    "from builtins import range\n",
    "from sklearn.tree import DecisionTreeClassifier\n",
    "from sklearn.ensemble import AdaBoostClassifier\n",
    "from sklearn.naive_bayes import MultinomialNB"
   ]
  },
  {
   "cell_type": "code",
   "execution_count": 4,
   "metadata": {},
   "outputs": [],
   "source": [
    "data = pd.read_csv('spambase(作業數據).data').values # use pandas for convenience\n",
    "np.random.shuffle(data) # shuffle each row in-place, but preserve the row\n",
    "\n",
    "X = data[:,:48]\n",
    "Y = data[:,-1]\n",
    "\n",
    "# 最後100列用作測試\n",
    "Xtrain = X[:-100,]\n",
    "Ytrain = Y[:-100,]\n",
    "Xtest = X[-100:,]\n",
    "Ytest = Y[-100:,]"
   ]
  },
  {
   "cell_type": "code",
   "execution_count": 5,
   "metadata": {},
   "outputs": [
    {
     "output_type": "stream",
     "name": "stdout",
     "text": [
      "Classification rate for NB: 0.87\n"
     ]
    }
   ],
   "source": [
    "model = MultinomialNB()\n",
    "model.fit(Xtrain, Ytrain)\n",
    "print(\"Classification rate for NB:\", model.score(Xtest, Ytest))"
   ]
  },
  {
   "cell_type": "code",
   "execution_count": 6,
   "metadata": {},
   "outputs": [
    {
     "output_type": "stream",
     "name": "stdout",
     "text": [
      "Classification rate for AdaBoost: 0.89\n"
     ]
    }
   ],
   "source": [
    "model = AdaBoostClassifier()\n",
    "model.fit(Xtrain, Ytrain)\n",
    "print(\"Classification rate for AdaBoost:\", model.score(Xtest, Ytest))"
   ]
  },
  {
   "cell_type": "code",
   "execution_count": 7,
   "metadata": {},
   "outputs": [
    {
     "output_type": "stream",
     "name": "stdout",
     "text": [
      "Classification rate for Decision Tree: 0.88\n"
     ]
    }
   ],
   "source": [
    "model = DecisionTreeClassifier()\n",
    "model.fit(Xtrain, Ytrain)\n",
    "print(\"Classification rate for Decision Tree:\", model.score(Xtest, Ytest))"
   ]
  },
  {
   "cell_type": "code",
   "execution_count": 8,
   "metadata": {},
   "outputs": [
    {
     "output_type": "stream",
     "name": "stdout",
     "text": [
      "Classification rate for Logestic Regression: 0.92\n"
     ]
    }
   ],
   "source": [
    "model = LogisticRegression()\n",
    "model.fit(Xtrain, Ytrain)\n",
    "print(\"Classification rate for Logestic Regression:\", model.score(Xtest, Ytest))"
   ]
  },
  {
   "cell_type": "code",
   "execution_count": null,
   "metadata": {},
   "outputs": [],
   "source": []
  }
 ]
}