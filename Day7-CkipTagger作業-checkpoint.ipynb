{
 "cells": [
  {
   "cell_type": "markdown",
   "metadata": {},
   "source": [
    "### 作業目標: 使用Jieba進行各項的斷詞操作"
   ]
  },
  {
   "cell_type": "markdown",
   "metadata": {},
   "source": [
    "### Import 所需 libraries"
   ]
  },
  {
   "cell_type": "code",
   "execution_count": 8,
   "metadata": {},
   "outputs": [],
   "source": [
    "#導入所需libraries\n",
    "#請import 1.可用於下載權重的library 2.建構自定義字典的library 3.斷詞, 詞性標注,與命名實體辨識libries\n",
    "###<your code>###\n",
    "\n",
    "# import livrary\n",
    "from ckiptagger import data_utils, construct_dictionary, WS, POS, NER\n",
    "#請對下列文本字串進行斷詞, 詞性標注, 命名實體識別\n",
    "\n",
    "sentence_list = [\n",
    "    \"傅達仁今將執行安樂死，卻突然爆出自己20年前遭緯來體育台封殺，他不懂自己哪裡得罪到電視台。\",\n",
    "    \"美國參議院針對今天總統布什所提名的勞工部長趙小蘭展開認可聽證會，預料她將會很順利通過參議院支持，成為該國有史以來第一位的華裔女性內閣成員。\",\n",
    "    \"\",\n",
    "    \"土地公有政策?？還是土地婆有政策。.\",\n",
    "    \"… 你確定嗎… 不要再騙了……\",\n",
    "    \"最多容納59,000個人,或5.9萬人,再多就不行了.這是環評的結論.\",\n",
    "    \"科長說:1,坪數對人數為1:3。2,可以再增加。\",\n",
    "]"
   ]
  },
  {
   "cell_type": "markdown",
   "metadata": {},
   "source": [
    "### 進行斷詞, 詞性標注, 與命名實體識別"
   ]
  },
  {
   "cell_type": "code",
   "execution_count": 9,
   "metadata": {
    "scrolled": true
   },
   "outputs": [
    {
     "output_type": "stream",
     "name": "stdout",
     "text": [
      "斷詞輸出: [['傅達仁', '今', '將', '執行', '安樂死', '，', '卻', '突然', '爆出', '自己', '20', '年', '前', '遭', '緯來', '體育台', '封殺', '，', '他', '不', '懂', '自己', '哪裡', '得罪到', '電視台', '。'], ['美國', '參議院', '針對', '今天', '總統', '布什', '所', '提名', '的', '勞工部長', '趙小蘭', '展開', '認可', '聽證會', '，', '預料', '她', '將', '會', '很', '順利', '通過', '參議院', '支持', '，', '成為', '該', '國', '有史以來', '第一', '位', '的', '華裔', '女性', '內閣', '成員', '。'], [], ['土地公', '有', '政策', '?', '？', '還是', '土地', '婆', '有', '政策', '。', '.'], ['…', ' ', '你', '確定', '嗎', '…', ' ', '不要', '再', '騙', '了', '…', '…'], ['最多', '容納', '59', ',', '000', '個', '人', ',', '或', '5.9萬', '人', ',', '再', '多', '就', '不行', '了', '.', '這', '是', '環評', '的', '結論', '.'], ['科長', '說', ':', '1', ',', '坪數', '對', '人數', '為', '1', ':', '3', '。', '2', ',', '可以', '再', '增加', '。']]\n",
      "\n",
      "\n",
      "詞性標注輸出: [['Nb', 'Nd', 'D', 'VC', 'Na', 'COMMACATEGORY', 'D', 'D', 'VJ', 'Nh', 'Neu', 'Nf', 'Ng', 'P', 'Nb', 'Na', 'VC', 'COMMACATEGORY', 'Nh', 'D', 'VK', 'Nh', 'Ncd', 'VJ', 'Nc', 'PERIODCATEGORY'], ['Nc', 'Nc', 'P', 'Nd', 'Na', 'Nb', 'D', 'VC', 'DE', 'Na', 'Nb', 'VC', 'VC', 'Na', 'COMMACATEGORY', 'VE', 'Nh', 'D', 'D', 'Dfa', 'VH', 'VC', 'Nc', 'VC', 'COMMACATEGORY', 'VG', 'Nes', 'Nc', 'D', 'Neu', 'Nf', 'DE', 'Na', 'Na', 'Na', 'Na', 'PERIODCATEGORY'], [], ['Nb', 'V_2', 'Na', 'QUESTIONCATEGORY', 'QUESTIONCATEGORY', 'Caa', 'Na', 'Na', 'V_2', 'Na', 'PERIODCATEGORY', 'PERIODCATEGORY'], ['ETCCATEGORY', 'WHITESPACE', 'Nh', 'VK', 'T', 'ETCCATEGORY', 'WHITESPACE', 'D', 'D', 'VC', 'Di', 'ETCCATEGORY', 'ETCCATEGORY'], ['VH', 'VJ', 'Neu', 'COMMACATEGORY', 'Neu', 'Nf', 'Na', 'COMMACATEGORY', 'Caa', 'Neu', 'Na', 'COMMACATEGORY', 'D', 'D', 'D', 'VH', 'T', 'PERIODCATEGORY', 'Nep', 'SHI', 'Na', 'DE', 'Na', 'PERIODCATEGORY'], ['Na', 'VE', 'COLONCATEGORY', 'Neu', 'COMMACATEGORY', 'Na', 'P', 'Na', 'VG', 'Neu', 'COLONCATEGORY', 'Neu', 'PERIODCATEGORY', 'Neu', 'COMMACATEGORY', 'D', 'D', 'VHC', 'PERIODCATEGORY']]\n",
      "\n",
      "\n",
      "命名實體識別輸出: [{(23, 28, 'ORG', '緯來體育台'), (18, 22, 'DATE', '20年前'), (0, 3, 'PERSON', '傅達仁')}, {(42, 45, 'ORG', '參議院'), (56, 58, 'ORDINAL', '第一'), (60, 62, 'NORP', '華裔'), (11, 13, 'PERSON', '布什'), (21, 24, 'PERSON', '趙小蘭'), (17, 21, 'ORG', '勞工部長'), (2, 5, 'ORG', '參議院'), (0, 2, 'GPE', '美國'), (7, 9, 'DATE', '今天')}, set(), {(0, 3, 'PERSON', '土地公')}, set(), {(14, 18, 'CARDINAL', '5.9萬'), (4, 6, 'CARDINAL', '59'), (7, 10, 'CARDINAL', '000')}, {(14, 15, 'CARDINAL', '3'), (12, 13, 'CARDINAL', '1'), (4, 5, 'CARDINAL', '1'), (16, 17, 'CARDINAL', '2')}]\n"
     ]
    }
   ],
   "source": [
    "#創建實例\n",
    "###<your code>###\n",
    "ws = WS(\"./data\") #建構斷詞\n",
    "pos = POS(\"./data\")\n",
    "ner = NER(\"./data\")\n",
    "\n",
    "#斷詞\n",
    "###<your code>###\n",
    "word_s = ws(\n",
    "    sentence_list,\n",
    "    sentence_segmentation = True, # To consider delimiters\n",
    "    segment_delimiter_set = {\",\", \"。\", \":\", \"?\", \"!\", \";\"}) # This is the defualt set of delimiters\n",
    "\n",
    "print(f'斷詞輸出: {word_s}')\n",
    "print('\\n')\n",
    "\n",
    "#詞性標注\n",
    "###<your code>###\n",
    "word_p = pos(word_s)\n",
    "\n",
    "print(f'詞性標注輸出: {word_p}')\n",
    "print('\\n')\n",
    "\n",
    "#命名實體識別\n",
    "###<your code>###\n",
    "word_n = ner(word_s, word_p)\n",
    "print(f'命名實體識別輸出: {word_n}')"
   ]
  },
  {
   "cell_type": "code",
   "execution_count": 10,
   "metadata": {},
   "outputs": [
    {
     "output_type": "stream",
     "name": "stdout",
     "text": [
      "Input sentence: \n 傅達仁今將執行安樂死，卻突然爆出自己20年前遭緯來體育台封殺，他不懂自己哪裡得罪到電視台。\n\n\nSegmentation with PoS: \n\n傅達仁(Nb)\n今(Nd)\n將(D)\n執行(VC)\n安樂死(Na)\n，(COMMACATEGORY)\n卻(D)\n突然(D)\n爆出(VJ)\n自己(Nh)\n20(Neu)\n年(Nf)\n前(Ng)\n遭(P)\n緯來(Nb)\n體育台(Na)\n封殺(VC)\n，(COMMACATEGORY)\n他(Nh)\n不(D)\n懂(VK)\n自己(Nh)\n哪裡(Ncd)\n得罪到(VJ)\n電視台(Nc)\n。(PERIODCATEGORY)\n\n\nNamed Entity Recognition:\n(0, 3, 'PERSON', '傅達仁')\n(18, 22, 'DATE', '20年前')\n(23, 28, 'ORG', '緯來體育台')\n\n\nInput sentence: \n 美國參議院針對今天總統布什所提名的勞工部長趙小蘭展開認可聽證會，預料她將會很順利通過參議院支持，成為該國有史以來第一位的華裔女性內閣成員。\n\n\nSegmentation with PoS: \n\n美國(Nc)\n參議院(Nc)\n針對(P)\n今天(Nd)\n總統(Na)\n布什(Nb)\n所(D)\n提名(VC)\n的(DE)\n勞工部長(Na)\n趙小蘭(Nb)\n展開(VC)\n認可(VC)\n聽證會(Na)\n，(COMMACATEGORY)\n預料(VE)\n她(Nh)\n將(D)\n會(D)\n很(Dfa)\n順利(VH)\n通過(VC)\n參議院(Nc)\n支持(VC)\n，(COMMACATEGORY)\n成為(VG)\n該(Nes)\n國(Nc)\n有史以來(D)\n第一(Neu)\n位(Nf)\n的(DE)\n華裔(Na)\n女性(Na)\n內閣(Na)\n成員(Na)\n。(PERIODCATEGORY)\n\n\nNamed Entity Recognition:\n(0, 2, 'GPE', '美國')\n(2, 5, 'ORG', '參議院')\n(7, 9, 'DATE', '今天')\n(11, 13, 'PERSON', '布什')\n(17, 21, 'ORG', '勞工部長')\n(21, 24, 'PERSON', '趙小蘭')\n(42, 45, 'ORG', '參議院')\n(56, 58, 'ORDINAL', '第一')\n(60, 62, 'NORP', '華裔')\n\n\nInput sentence: \n \n\n\nSegmentation with PoS: \n\n\n\nNamed Entity Recognition:\n\n\nInput sentence: \n 土地公有政策?？還是土地婆有政策。.\n\n\nSegmentation with PoS: \n\n土地公(Nb)\n有(V_2)\n政策(Na)\n?(QUESTIONCATEGORY)\n？(QUESTIONCATEGORY)\n還是(Caa)\n土地(Na)\n婆(Na)\n有(V_2)\n政策(Na)\n。(PERIODCATEGORY)\n.(PERIODCATEGORY)\n\n\nNamed Entity Recognition:\n(0, 3, 'PERSON', '土地公')\n\n\nInput sentence: \n … 你確定嗎… 不要再騙了……\n\n\nSegmentation with PoS: \n\n…(ETCCATEGORY)\n (WHITESPACE)\n你(Nh)\n確定(VK)\n嗎(T)\n…(ETCCATEGORY)\n (WHITESPACE)\n不要(D)\n再(D)\n騙(VC)\n了(Di)\n…(ETCCATEGORY)\n…(ETCCATEGORY)\n\n\nNamed Entity Recognition:\n\n\nInput sentence: \n 最多容納59,000個人,或5.9萬人,再多就不行了.這是環評的結論.\n\n\nSegmentation with PoS: \n\n最多(VH)\n容納(VJ)\n59(Neu)\n,(COMMACATEGORY)\n000(Neu)\n個(Nf)\n人(Na)\n,(COMMACATEGORY)\n或(Caa)\n5.9萬(Neu)\n人(Na)\n,(COMMACATEGORY)\n再(D)\n多(D)\n就(D)\n不行(VH)\n了(T)\n.(PERIODCATEGORY)\n這(Nep)\n是(SHI)\n環評(Na)\n的(DE)\n結論(Na)\n.(PERIODCATEGORY)\n\n\nNamed Entity Recognition:\n(4, 6, 'CARDINAL', '59')\n(7, 10, 'CARDINAL', '000')\n(14, 18, 'CARDINAL', '5.9萬')\n\n\nInput sentence: \n 科長說:1,坪數對人數為1:3。2,可以再增加。\n\n\nSegmentation with PoS: \n\n科長(Na)\n說(VE)\n:(COLONCATEGORY)\n1(Neu)\n,(COMMACATEGORY)\n坪數(Na)\n對(P)\n人數(Na)\n為(VG)\n1(Neu)\n:(COLONCATEGORY)\n3(Neu)\n。(PERIODCATEGORY)\n2(Neu)\n,(COMMACATEGORY)\n可以(D)\n再(D)\n增加(VHC)\n。(PERIODCATEGORY)\n\n\nNamed Entity Recognition:\n(4, 5, 'CARDINAL', '1')\n(12, 13, 'CARDINAL', '1')\n(14, 15, 'CARDINAL', '3')\n(16, 17, 'CARDINAL', '2')\n\n\n"
     ]
    }
   ],
   "source": [
    "#合併顯示輸出結果\n",
    "def combine_wandp(word_s, word_p):\n",
    "    assert len(word_s) == len(word_p)\n",
    "    \n",
    "    ###<your code>###\n",
    "    for w,p in zip(word_s, word_p):\n",
    "        print(f'{w}({p})')    \n",
    "for i, sentence in enumerate(sentence_list):\n",
    "    print(f'Input sentence: \\n {sentence}')\n",
    "    print('\\n')\n",
    "    \n",
    "    print(f'Segmentation with PoS: \\n')\n",
    "    ###<your code>###\n",
    "    combine_wandp(word_s[i],word_p[i])\n",
    "\n",
    "    print ('\\n')\n",
    "    print('Named Entity Recognition:')\n",
    "    for n in sorted(word_n[i]):\n",
    "        print (n)\n",
    "    print ('\\n')\n"
   ]
  },
  {
   "cell_type": "markdown",
   "metadata": {},
   "source": [
    "### 帶入自定義字典\n",
    "\n",
    "觀察上面的輸出發現，斷詞結果將`年前`斷為`年`、`前`, 請使用自定義字典使斷詞結果依然維持為`年前`"
   ]
  },
  {
   "cell_type": "code",
   "execution_count": 11,
   "metadata": {},
   "outputs": [
    {
     "output_type": "stream",
     "name": "stdout",
     "text": [
      "[['傅達仁', '今', '將', '執行', '安樂死', '，', '卻', '突然', '爆出', '自己', '20', '年前', '遭', '緯來', '體育台', '封殺', '，', '他', '不', '懂', '自己', '哪裡', '得罪到', '電視台', '。']]\n"
     ]
    }
   ],
   "source": [
    "#定義字典\n",
    "###<your code>###\n",
    "word_to_weight={\n",
    "    \"年前\":1,\n",
    "}\n",
    "dictionary = construct_dictionary(word_to_weight)\n",
    "#帶入自定義字典進行斷詞\n",
    "ws = WS(\"./data\") #建構斷詞\n",
    "\n",
    "input_traditional_str = [\"傅達仁今將執行安樂死，卻突然爆出自己20年前遭緯來體育台封殺，他不懂自己哪裡得罪到電視台。\"]\n",
    "\n",
    "###<your code>###\n",
    "word_sentence_list = ws(\n",
    "    input_traditional_str,\n",
    "    sentence_segmentation = True, # To consider delimiters\n",
    "    segment_delimiter_set = {\",\", \"。\", \":\", \"?\", \"!\", \";\"}, # This is the defualt set of delimiters\n",
    "    recommend_dictionary = dictionary, # words in this dictionary are encouraged\n",
    "    )\n",
    "\n",
    "print(word_sentence_list)\n"
   ]
  },
  {
   "cell_type": "code",
   "execution_count": null,
   "metadata": {},
   "outputs": [],
   "source": []
  }
 ],
 "metadata": {
  "kernelspec": {
   "name": "python3",
   "display_name": "Python 3.7.6 64-bit (conda)",
   "metadata": {
    "interpreter": {
     "hash": "7b4b4feff2f24a0f0a34464dbe537a36fda679851528fb8735cb41fa49dffb2d"
    }
   }
  },
  "language_info": {
   "codemirror_mode": {
    "name": "ipython",
    "version": 3
   },
   "file_extension": ".py",
   "mimetype": "text/x-python",
   "name": "python",
   "nbconvert_exporter": "python",
   "pygments_lexer": "ipython3",
   "version": "3.7.6-final"
  }
 },
 "nbformat": 4,
 "nbformat_minor": 2
}