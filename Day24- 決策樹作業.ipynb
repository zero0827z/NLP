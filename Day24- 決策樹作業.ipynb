{
 "cells": [
  {
   "cell_type": "markdown",
   "metadata": {},
   "source": [
    "### 作業目的:了解決策樹的節點分支依據\n",
    "本次作業可參考簡報中的延伸閱讀[訊息增益](https://medium.com/jameslearningnote/%E8%B3%87%E6%96%99%E5%88%86%E6%9E%90-%E6%A9%9F%E5%99%A8%E5%AD%B8%E7%BF%92-%E7%AC%AC3-5%E8%AC%9B-%E6%B1%BA%E7%AD%96%E6%A8%B9-decision-tree-%E4%BB%A5%E5%8F%8A%E9%9A%A8%E6%A9%9F%E6%A3%AE%E6%9E%97-random-forest-%E4%BB%8B%E7%B4%B9-7079b0ddfbda)部分"
   ]
  },
  {
   "cell_type": "markdown",
   "metadata": {},
   "source": [
    "#### Question:\n",
    "若你是決策樹，下列兩種分類狀況(a,b)，你會選擇哪種做分類？為什麼？\n",
    "\n",
    "<img src='hw_1.png' style='width:500px'>"
   ]
  },
  {
   "source": [
    "# Answer:\n",
    "\n",
    "(a) <br>\n",
    "I_{H}(D_{p})=-(0.5*log2(0.5)+0.5*log2(0.5))=1\n",
    "\n",
    "I_{H}(D_{left}) = -(0.75*log2(0.75)+0.25*log2(0.25))= 0.81\n",
    "\n",
    "I_{H}(D_{right}) = -(0.75*log2(0.75)+0.25*log2(0.25))= 0.81\n",
    "\n",
    "IG_{H}= 1-0.5*0.81-0.5*0.81= 0.19\n",
    "\n",
    "---\n",
    "(b) <br>\n",
    "I_{H}(D_{p})=-(0.875*log2(0.875)+0.125*log2(0.125))=1\n",
    "\n",
    "I_{H}(D_{left}) = -(15/35*log2(15/35)+20/35*log2(20/35)= 0.54\n",
    "\n",
    "I_{H}(D_{right}) = -(1*log2(1))= 1\n",
    "\n",
    "IG_{H}= 1-(35/40)\\*0.54-(5/40)\\*1= 0.4025\n",
    "\n",
    "做B,因為訊息增益較多"
   ],
   "cell_type": "markdown",
   "metadata": {}
  },
  {
   "cell_type": "markdown",
   "metadata": {},
   "source": [
    "### 閱讀作業\n",
    "\n",
    "決策樹根據計算分割準則的不同(ex: Entropy, Gini, Gain ratio)，可分為ID3, C4.5, CART樹的算法，請同學閱讀下列文章，來更加了解決策樹的算法。\n",
    "\n",
    "[決策樹(ID3, C4.5, CART)](https://blog.csdn.net/u010089444/article/details/53241218)"
   ]
  },
  {
   "cell_type": "code",
   "execution_count": null,
   "metadata": {},
   "outputs": [],
   "source": []
  }
 ],
 "metadata": {
  "kernelspec": {
   "name": "python3",
   "display_name": "Python 3.7.6 64-bit (conda)",
   "metadata": {
    "interpreter": {
     "hash": "a8f61be024eba58adef938c9aa1e29e02cb3dece83a5348b1a2dafd16a070453"
    }
   }
  },
  "language_info": {
   "codemirror_mode": {
    "name": "ipython",
    "version": 3
   },
   "file_extension": ".py",
   "mimetype": "text/x-python",
   "name": "python",
   "nbconvert_exporter": "python",
   "pygments_lexer": "ipython3",
   "version": "3.7.6-final"
  }
 },
 "nbformat": 4,
 "nbformat_minor": 2
}